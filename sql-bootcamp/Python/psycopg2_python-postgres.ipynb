{
 "cells": [
  {
   "cell_type": "code",
   "execution_count": 2,
   "id": "cb028aed",
   "metadata": {},
   "outputs": [
    {
     "name": "stdout",
     "output_type": "stream",
     "text": [
      "Collecting psycopg2-binary\n",
      "  Downloading psycopg2_binary-2.9.3-cp38-cp38-win_amd64.whl (1.1 MB)\n",
      "Installing collected packages: psycopg2-binary\n",
      "Successfully installed psycopg2-binary-2.9.3\n",
      "Note: you may need to restart the kernel to use updated packages.\n"
     ]
    }
   ],
   "source": [
    "# pip install psycopg2-binary"
   ]
  },
  {
   "cell_type": "code",
   "execution_count": 23,
   "id": "0a95be08",
   "metadata": {},
   "outputs": [],
   "source": [
    "# secret = 'your password goes here'"
   ]
  },
  {
   "cell_type": "code",
   "execution_count": 15,
   "id": "b608cd9c",
   "metadata": {},
   "outputs": [],
   "source": [
    "import psycopg2 as pg2"
   ]
  },
  {
   "cell_type": "code",
   "execution_count": 17,
   "id": "336cad63",
   "metadata": {},
   "outputs": [],
   "source": [
    "# establish connection with pgadmin\n",
    "conn = pg2.connect(database = 'dvdrental', user = 'postgres', password = 'secret') # user 'postgres' is default"
   ]
  },
  {
   "cell_type": "code",
   "execution_count": 18,
   "id": "08580de0",
   "metadata": {},
   "outputs": [],
   "source": [
    "# create a cursor\n",
    "cur = conn.cursor()"
   ]
  },
  {
   "cell_type": "code",
   "execution_count": 19,
   "id": "4e28ea66",
   "metadata": {},
   "outputs": [],
   "source": [
    "# execute some SQL query in the rental database\n",
    "cur.execute('SELECT * FROM payment')"
   ]
  },
  {
   "cell_type": "code",
   "execution_count": 20,
   "id": "a4567327",
   "metadata": {},
   "outputs": [
    {
     "data": {
      "text/plain": [
       "(17503,\n",
       " 341,\n",
       " 2,\n",
       " 1520,\n",
       " Decimal('7.99'),\n",
       " datetime.datetime(2007, 2, 15, 22, 25, 46, 996577))"
      ]
     },
     "execution_count": 20,
     "metadata": {},
     "output_type": "execute_result"
    }
   ],
   "source": [
    "# return the first row of the table\n",
    "cur.fetchone()"
   ]
  },
  {
   "cell_type": "code",
   "execution_count": 26,
   "id": "e80fbe6d",
   "metadata": {},
   "outputs": [
    {
     "data": {
      "text/plain": [
       "[(17524,\n",
       "  345,\n",
       "  2,\n",
       "  1550,\n",
       "  Decimal('0.99'),\n",
       "  datetime.datetime(2007, 2, 16, 0, 27, 1, 996577)),\n",
       " (17525,\n",
       "  345,\n",
       "  2,\n",
       "  2766,\n",
       "  Decimal('4.99'),\n",
       "  datetime.datetime(2007, 2, 19, 16, 13, 41, 996577)),\n",
       " (17526,\n",
       "  346,\n",
       "  1,\n",
       "  1994,\n",
       "  Decimal('5.99'),\n",
       "  datetime.datetime(2007, 2, 17, 9, 35, 32, 996577)),\n",
       " (17527,\n",
       "  346,\n",
       "  2,\n",
       "  3372,\n",
       "  Decimal('2.99'),\n",
       "  datetime.datetime(2007, 2, 21, 12, 2, 45, 996577)),\n",
       " (17528,\n",
       "  346,\n",
       "  1,\n",
       "  3421,\n",
       "  Decimal('2.99'),\n",
       "  datetime.datetime(2007, 2, 21, 15, 51, 24, 996577))]"
      ]
     },
     "execution_count": 26,
     "metadata": {},
     "output_type": "execute_result"
    }
   ],
   "source": [
    "# how many rows we wanna fetch\n",
    "cur.fetchmany(5)"
   ]
  },
  {
   "cell_type": "code",
   "execution_count": 24,
   "id": "c6636f65",
   "metadata": {},
   "outputs": [],
   "source": [
    "# fetch all rows from the query\n",
    "# cur.fetchall()"
   ]
  },
  {
   "cell_type": "code",
   "execution_count": 27,
   "id": "c672dd65",
   "metadata": {},
   "outputs": [],
   "source": [
    "data = cur.fetchmany(5)"
   ]
  },
  {
   "cell_type": "code",
   "execution_count": 28,
   "id": "ccd51127",
   "metadata": {},
   "outputs": [
    {
     "data": {
      "text/plain": [
       "(17529,\n",
       " 347,\n",
       " 2,\n",
       " 1711,\n",
       " Decimal('8.99'),\n",
       " datetime.datetime(2007, 2, 16, 12, 40, 18, 996577))"
      ]
     },
     "execution_count": 28,
     "metadata": {},
     "output_type": "execute_result"
    }
   ],
   "source": [
    "# first row\n",
    "data[0]"
   ]
  },
  {
   "cell_type": "code",
   "execution_count": 34,
   "id": "c548de9d",
   "metadata": {},
   "outputs": [
    {
     "data": {
      "text/plain": [
       "347"
      ]
     },
     "execution_count": 34,
     "metadata": {},
     "output_type": "execute_result"
    }
   ],
   "source": [
    "# first row, second column\n",
    "data[0][1]"
   ]
  },
  {
   "cell_type": "code",
   "execution_count": 39,
   "id": "207d6231",
   "metadata": {},
   "outputs": [
    {
     "data": {
      "text/plain": [
       "datetime.datetime(2007, 2, 18, 4, 59, 41, 996577)"
      ]
     },
     "execution_count": 39,
     "metadata": {},
     "output_type": "execute_result"
    }
   ],
   "source": [
    "data[1][5]"
   ]
  },
  {
   "cell_type": "code",
   "execution_count": 40,
   "id": "e7874d75",
   "metadata": {},
   "outputs": [],
   "source": [
    "# closing connection\n",
    "conn.close()"
   ]
  },
  {
   "cell_type": "code",
   "execution_count": null,
   "id": "7af9d28d",
   "metadata": {},
   "outputs": [],
   "source": []
  }
 ],
 "metadata": {
  "kernelspec": {
   "display_name": "Python 3",
   "language": "python",
   "name": "python3"
  },
  "language_info": {
   "codemirror_mode": {
    "name": "ipython",
    "version": 3
   },
   "file_extension": ".py",
   "mimetype": "text/x-python",
   "name": "python",
   "nbconvert_exporter": "python",
   "pygments_lexer": "ipython3",
   "version": "3.8.8"
  }
 },
 "nbformat": 4,
 "nbformat_minor": 5
}
